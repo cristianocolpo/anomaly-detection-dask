{
 "cells": [
  {
   "cell_type": "markdown",
   "metadata": {},
   "source": [
    "Cristiano Colpo cristiano.colpo@studenti.unipd.it 2017898\n",
    "\n",
    "\n",
    "Mattia Sandri mattia.sandri.1@studenti.unipd.it 2021425"
   ]
  },
  {
   "cell_type": "markdown",
   "metadata": {},
   "source": [
    "# Final project MANAGEMENT AND ANALYSIS OF PHYSICS DATASET \n",
    "## Anomaly detection and Predictive maintence for industrial devices\n",
    "\n",
    "### Predictive Maintenance: Task 1\n",
    "Convert the alarms from their integer encoding to their bit string and then identify\n",
    "correctly the required alarms"
   ]
  },
  {
   "cell_type": "code",
   "execution_count": 1,
   "metadata": {},
   "outputs": [],
   "source": [
    "from dask.distributed import Client\n",
    "import dask\n",
    "import dask.dataframe as dd\n",
    "import numpy as np\n",
    "import pandas as pd\n",
    "import matplotlib.pyplot as plt\n",
    "from tqdm import tqdm\n",
    "import time"
   ]
  },
  {
   "cell_type": "code",
   "execution_count": 2,
   "metadata": {},
   "outputs": [
    {
     "name": "stderr",
     "output_type": "stream",
     "text": [
      "/home/mattia/.local/lib/python3.8/site-packages/distributed/node.py:160: UserWarning: Port 8787 is already in use.\n",
      "Perhaps you already have a cluster running?\n",
      "Hosting the HTTP server on port 32931 instead\n",
      "  warnings.warn(\n"
     ]
    },
    {
     "data": {
      "text/html": [
       "<div>\n",
       "    <div style=\"width: 24px; height: 24px; background-color: #e1e1e1; border: 3px solid #9D9D9D; border-radius: 5px; position: absolute;\"> </div>\n",
       "    <div style=\"margin-left: 48px;\">\n",
       "        <h3 style=\"margin-bottom: 0px;\">Client</h3>\n",
       "        <p style=\"color: #9D9D9D; margin-bottom: 0px;\">Client-2670df7e-0d64-11ec-92ea-edc3c87050dc</p>\n",
       "        <table style=\"width: 100%; text-align: left;\">\n",
       "\n",
       "        <tr>\n",
       "        \n",
       "            <td style=\"text-align: left;\"><strong>Connection method:</strong> Cluster object</td>\n",
       "            <td style=\"text-align: left;\"><strong>Cluster type:</strong> distributed.LocalCluster</td>\n",
       "        \n",
       "        </tr>\n",
       "\n",
       "        \n",
       "            <tr>\n",
       "                <td style=\"text-align: left;\">\n",
       "                    <strong>Dashboard: </strong> <a href=\"http://127.0.0.1:32931/status\" target=\"_blank\">http://127.0.0.1:32931/status</a>\n",
       "                </td>\n",
       "                <td style=\"text-align: left;\"></td>\n",
       "            </tr>\n",
       "        \n",
       "\n",
       "        </table>\n",
       "\n",
       "        \n",
       "            <details>\n",
       "            <summary style=\"margin-bottom: 20px;\"><h3 style=\"display: inline;\">Cluster Info</h3></summary>\n",
       "            <div class=\"jp-RenderedHTMLCommon jp-RenderedHTML jp-mod-trusted jp-OutputArea-output\">\n",
       "    <div style=\"width: 24px; height: 24px; background-color: #e1e1e1; border: 3px solid #9D9D9D; border-radius: 5px; position: absolute;\">\n",
       "    </div>\n",
       "    <div style=\"margin-left: 48px;\">\n",
       "        <h3 style=\"margin-bottom: 0px; margin-top: 0px;\">LocalCluster</h3>\n",
       "        <p style=\"color: #9D9D9D; margin-bottom: 0px;\">2725066e</p>\n",
       "        <table style=\"width: 100%; text-align: left;\">\n",
       "            <tr>\n",
       "                <td style=\"text-align: left;\">\n",
       "                    <strong>Dashboard:</strong> <a href=\"http://127.0.0.1:32931/status\" target=\"_blank\">http://127.0.0.1:32931/status</a>\n",
       "                </td>\n",
       "                <td style=\"text-align: left;\">\n",
       "                    <strong>Workers:</strong> 1\n",
       "                </td>\n",
       "            </tr>\n",
       "            <tr>\n",
       "                <td style=\"text-align: left;\">\n",
       "                    <strong>Total threads:</strong> 8\n",
       "                </td>\n",
       "                <td style=\"text-align: left;\">\n",
       "                    <strong>Total memory:</strong> 15.57 GiB\n",
       "                </td>\n",
       "            </tr>\n",
       "            \n",
       "            <tr>\n",
       "    <td style=\"text-align: left;\"><strong>Status:</strong> running</td>\n",
       "    <td style=\"text-align: left;\"><strong>Using processes:</strong> True</td>\n",
       "</tr>\n",
       "\n",
       "            \n",
       "        </table>\n",
       "\n",
       "        <details>\n",
       "            <summary style=\"margin-bottom: 20px;\">\n",
       "                <h3 style=\"display: inline;\">Scheduler Info</h3>\n",
       "            </summary>\n",
       "\n",
       "            <div style=\"\">\n",
       "    <div>\n",
       "        <div style=\"width: 24px; height: 24px; background-color: #FFF7E5; border: 3px solid #FF6132; border-radius: 5px; position: absolute;\"> </div>\n",
       "        <div style=\"margin-left: 48px;\">\n",
       "            <h3 style=\"margin-bottom: 0px;\">Scheduler</h3>\n",
       "            <p style=\"color: #9D9D9D; margin-bottom: 0px;\">Scheduler-4a96227e-795f-4137-b772-9b000f659963</p>\n",
       "            <table style=\"width: 100%; text-align: left;\">\n",
       "                <tr>\n",
       "                    <td style=\"text-align: left;\">\n",
       "                        <strong>Comm:</strong> tcp://127.0.0.1:37119\n",
       "                    </td>\n",
       "                    <td style=\"text-align: left;\">\n",
       "                        <strong>Workers:</strong> 1\n",
       "                    </td>\n",
       "                </tr>\n",
       "                <tr>\n",
       "                    <td style=\"text-align: left;\">\n",
       "                        <strong>Dashboard:</strong> <a href=\"http://127.0.0.1:32931/status\" target=\"_blank\">http://127.0.0.1:32931/status</a>\n",
       "                    </td>\n",
       "                    <td style=\"text-align: left;\">\n",
       "                        <strong>Total threads:</strong> 8\n",
       "                    </td>\n",
       "                </tr>\n",
       "                <tr>\n",
       "                    <td style=\"text-align: left;\">\n",
       "                        <strong>Started:</strong> Just now\n",
       "                    </td>\n",
       "                    <td style=\"text-align: left;\">\n",
       "                        <strong>Total memory:</strong> 15.57 GiB\n",
       "                    </td>\n",
       "                </tr>\n",
       "            </table>\n",
       "        </div>\n",
       "    </div>\n",
       "\n",
       "    <details style=\"margin-left: 48px;\">\n",
       "        <summary style=\"margin-bottom: 20px;\">\n",
       "            <h3 style=\"display: inline;\">Workers</h3>\n",
       "        </summary>\n",
       "\n",
       "        \n",
       "        <div style=\"margin-bottom: 20px;\">\n",
       "            <div style=\"width: 24px; height: 24px; background-color: #DBF5FF; border: 3px solid #4CC9FF; border-radius: 5px; position: absolute;\"> </div>\n",
       "            <div style=\"margin-left: 48px;\">\n",
       "            <details>\n",
       "                <summary>\n",
       "                    <h4 style=\"margin-bottom: 0px; display: inline;\">Worker: 0</h4>\n",
       "                </summary>\n",
       "                <table style=\"width: 100%; text-align: left;\">\n",
       "                    <tr>\n",
       "                        <td style=\"text-align: left;\">\n",
       "                            <strong>Comm: </strong> tcp://192.168.0.158:41655\n",
       "                        </td>\n",
       "                        <td style=\"text-align: left;\">\n",
       "                            <strong>Total threads: </strong> 8\n",
       "                        </td>\n",
       "                    </tr>\n",
       "                    <tr>\n",
       "                        <td style=\"text-align: left;\">\n",
       "                            <strong>Dashboard: </strong> <a href=\"http://192.168.0.158:35515/status\" target=\"_blank\">http://192.168.0.158:35515/status</a>\n",
       "                        </td>\n",
       "                        <td style=\"text-align: left;\">\n",
       "                            <strong>Memory: </strong> 15.57 GiB\n",
       "                        </td>\n",
       "                    </tr>\n",
       "                    <tr>\n",
       "                        <td style=\"text-align: left;\">\n",
       "                            <strong>Nanny: </strong> tcp://127.0.0.1:42639\n",
       "                        </td>\n",
       "                        <td style=\"text-align: left;\"></td>\n",
       "                    </tr>\n",
       "                    <tr>\n",
       "                        <td colspan=\"2\" style=\"text-align: left;\">\n",
       "                            <strong>Local directory: </strong> /home/mattia/Desktop/dask-worker-space/worker-l624hh65\n",
       "                        </td>\n",
       "                    </tr>\n",
       "\n",
       "                    \n",
       "\n",
       "                    \n",
       "\n",
       "                </table>\n",
       "            </details>\n",
       "            </div>\n",
       "        </div>\n",
       "        \n",
       "\n",
       "    </details>\n",
       "</div>\n",
       "\n",
       "        </details>\n",
       "    </div>\n",
       "</div>\n",
       "            </details>\n",
       "        \n",
       "\n",
       "    </div>\n",
       "</div>"
      ],
      "text/plain": [
       "<Client: 'tcp://127.0.0.1:37119' processes=1 threads=8, memory=15.57 GiB>"
      ]
     },
     "execution_count": 2,
     "metadata": {},
     "output_type": "execute_result"
    }
   ],
   "source": [
    "client = Client(n_workers=1)\n",
    "client"
   ]
  },
  {
   "cell_type": "code",
   "execution_count": 3,
   "metadata": {},
   "outputs": [],
   "source": [
    "df = dd.read_csv(\"dataset.csv\").persist()\n",
    "df['when']=dd.to_datetime(df.when,unit='ms')"
   ]
  },
  {
   "cell_type": "code",
   "execution_count": 4,
   "metadata": {},
   "outputs": [
    {
     "name": "stderr",
     "output_type": "stream",
     "text": [
      "<ipython-input-4-82c2d9a9912e>:2: UserWarning: `meta` is not specified, inferred from partial data. Please provide `meta` if the result is unexpected.\n",
      "  Before: .apply(func)\n",
      "  After:  .apply(func, meta={'x': 'f8', 'y': 'f8'}) for dataframe result\n",
      "  or:     .apply(func, meta=('x', 'f8'))            for series result\n",
      "  A5_A9_resampled = dataTask1.set_index(\"when\").groupby(\"metric\").apply(lambda df: df.resample(\"1min\").max().dropna()).compute()\n"
     ]
    }
   ],
   "source": [
    "dataTask1 = df[(df[\"metric\"]=='A5')|(df[\"metric\"]=='A9')]\n",
    "A5_A9_resampled = dataTask1.set_index(\"when\").groupby(\"metric\").apply(lambda df: df.resample(\"1min\").max().dropna()).compute()"
   ]
  },
  {
   "cell_type": "code",
   "execution_count": 5,
   "metadata": {},
   "outputs": [],
   "source": [
    "A5_A9_resampled.index = A5_A9_resampled.index.droplevel(0)"
   ]
  },
  {
   "cell_type": "code",
   "execution_count": 6,
   "metadata": {},
   "outputs": [],
   "source": [
    "def intToStringBin(intero):\n",
    "    return ('{0:b}'.format(int(intero))).zfill(16)"
   ]
  },
  {
   "cell_type": "code",
   "execution_count": 7,
   "metadata": {},
   "outputs": [],
   "source": [
    "A5_A9_resampled[\"value\"] = A5_A9_resampled[\"value\"].apply(intToStringBin)"
   ]
  },
  {
   "cell_type": "code",
   "execution_count": 8,
   "metadata": {},
   "outputs": [],
   "source": [
    "A5_A9_resampled_copy = A5_A9_resampled.copy()\n",
    "\n",
    "A5_A9_resampled_copy[\"value\"] = A5_A9_resampled[\"value\"].apply(list)"
   ]
  },
  {
   "cell_type": "code",
   "execution_count": 9,
   "metadata": {},
   "outputs": [],
   "source": [
    "alarm_sensors = pd.DataFrame([x for x in A5_A9_resampled_copy.value], columns =[\"Sensor \"+str(i) for i in range(16)])\n",
    "alarm_sensors.index = A5_A9_resampled_copy.index\n",
    "alarm_sensors[\"metric\"] = A5_A9_resampled_copy.metric\n",
    "alarm_sensors[\"hwid\"] = A5_A9_resampled_copy.hwid"
   ]
  },
  {
   "cell_type": "code",
   "execution_count": 10,
   "metadata": {},
   "outputs": [],
   "source": [
    "alarm_sensors = alarm_sensors.sort_index()"
   ]
  },
  {
   "cell_type": "code",
   "execution_count": 11,
   "metadata": {},
   "outputs": [],
   "source": [
    "alarm_sensors_A5 = alarm_sensors.loc[alarm_sensors[\"metric\"]==\"A5\"]\n",
    "alarm_sensors_A9 = alarm_sensors.loc[alarm_sensors[\"metric\"]==\"A9\"]"
   ]
  },
  {
   "cell_type": "code",
   "execution_count": 12,
   "metadata": {},
   "outputs": [
    {
     "data": {
      "text/plain": [
       "Text(0.5, 1.0, 'Sensor 15')"
      ]
     },
     "execution_count": 12,
     "metadata": {},
     "output_type": "execute_result"
    },
    {
     "data": {
      "image/png": "[encoded data removed]",
      "text/plain": [
       "<Figure size 1800x1152 with 16 Axes>"
      ]
     },
     "metadata": {
      "needs_background": "light"
     },
     "output_type": "display_data"
    }
   ],
   "source": [
    "fig = plt.figure(figsize=(25,16))\n",
    "gs = fig.add_gridspec(4, 4, hspace=0.1, wspace=0)\n",
    "(ax1, ax2, ax3, ax4), (ax5, ax6, ax7, ax8), (ax9, ax10, ax11, ax12), (ax13, ax14, ax15, ax16) = gs.subplots(sharex='col', sharey='row')\n",
    "fig.suptitle('Sharing x per column, y per row')\n",
    "ax1.plot(alarm_sensors_A9[\"Sensor 0\"])\n",
    "ax1.set_title(\"Sensor 0\")\n",
    "ax2.plot(alarm_sensors_A9[\"Sensor 1\"])\n",
    "ax2.set_title(\"Sensor 1\")\n",
    "ax3.plot(alarm_sensors_A9[\"Sensor 2\"])\n",
    "ax3.set_title(\"Sensor 2\")\n",
    "ax4.plot(alarm_sensors_A9[\"Sensor 3\"])\n",
    "ax4.set_title(\"Sensor 3\")\n",
    "ax5.plot(alarm_sensors_A9[\"Sensor 4\"])\n",
    "ax5.set_title(\"Sensor 4\")\n",
    "ax6.plot(alarm_sensors_A9[\"Sensor 5\"])\n",
    "ax6.set_title(\"Sensor 5\")\n",
    "ax7.plot(alarm_sensors_A9[\"Sensor 6\"])\n",
    "ax7.set_title(\"Sensor 6\")\n",
    "ax8.plot(alarm_sensors_A9[\"Sensor 7\"])\n",
    "ax8.set_title(\"Sensor 7\")\n",
    "ax9.plot(alarm_sensors_A9[\"Sensor 8\"])\n",
    "ax9.set_title(\"Sensor 8\")\n",
    "ax10.plot(alarm_sensors_A9[\"Sensor 9\"])\n",
    "ax10.set_title(\"Sensor 9\")\n",
    "ax11.plot(alarm_sensors_A9[\"Sensor 10\"])\n",
    "ax11.set_title(\"Sensor 10\")\n",
    "ax12.plot(alarm_sensors_A9[\"Sensor 11\"])\n",
    "ax12.set_title(\"Sensor 11\")\n",
    "ax13.plot(alarm_sensors_A9[\"Sensor 12\"])\n",
    "ax13.set_title(\"Sensor 12\")\n",
    "ax14.plot(alarm_sensors_A9[\"Sensor 13\"])\n",
    "ax14.set_title(\"Sensor 13\")\n",
    "ax15.plot(alarm_sensors_A9[\"Sensor 14\"])\n",
    "ax15.set_title(\"Sensor 14\")\n",
    "ax16.plot(alarm_sensors_A9[\"Sensor 15\"])\n",
    "ax16.set_title(\"Sensor 15\")"
   ]
  },
  {
   "cell_type": "code",
   "execution_count": 13,
   "metadata": {},
   "outputs": [
    {
     "data": {
      "text/plain": [
       "Text(0.5, 1.0, 'Sensor 15')"
      ]
     },
     "execution_count": 13,
     "metadata": {},
     "output_type": "execute_result"
    },
    {
     "data": {
      "image/png": "[encoded data removed]",
      "text/plain": [
       "<Figure size 1800x1152 with 16 Axes>"
      ]
     },
     "metadata": {
      "needs_background": "light"
     },
     "output_type": "display_data"
    }
   ],
   "source": [
    "fig = plt.figure(figsize=(25,16))\n",
    "gs = fig.add_gridspec(4, 4, hspace=0.1, wspace=0)\n",
    "(ax1, ax2, ax3, ax4), (ax5, ax6, ax7, ax8), (ax9, ax10, ax11, ax12), (ax13, ax14, ax15, ax16) = gs.subplots(sharex='col', sharey='row')\n",
    "fig.suptitle('Sharing x per column, y per row')\n",
    "ax1.plot(alarm_sensors_A5[\"Sensor 0\"])\n",
    "ax1.set_title(\"Sensor 0\")\n",
    "ax2.plot(alarm_sensors_A5[\"Sensor 1\"])\n",
    "ax2.set_title(\"Sensor 1\")\n",
    "ax3.plot(alarm_sensors_A5[\"Sensor 2\"])\n",
    "ax3.set_title(\"Sensor 2\")\n",
    "ax4.plot(alarm_sensors_A5[\"Sensor 3\"])\n",
    "ax4.set_title(\"Sensor 3\")\n",
    "ax5.plot(alarm_sensors_A5[\"Sensor 4\"])\n",
    "ax5.set_title(\"Sensor 4\")\n",
    "ax6.plot(alarm_sensors_A5[\"Sensor 5\"])\n",
    "ax6.set_title(\"Sensor 5\")\n",
    "ax7.plot(alarm_sensors_A5[\"Sensor 6\"])\n",
    "ax7.set_title(\"Sensor 6\")\n",
    "ax8.plot(alarm_sensors_A5[\"Sensor 7\"])\n",
    "ax8.set_title(\"Sensor 7\")\n",
    "ax9.plot(alarm_sensors_A5[\"Sensor 8\"])\n",
    "ax9.set_title(\"Sensor 8\")\n",
    "ax10.plot(alarm_sensors_A5[\"Sensor 9\"])\n",
    "ax10.set_title(\"Sensor 9\")\n",
    "ax11.plot(alarm_sensors_A5[\"Sensor 10\"])\n",
    "ax11.set_title(\"Sensor 10\")\n",
    "ax12.plot(alarm_sensors_A5[\"Sensor 11\"])\n",
    "ax12.set_title(\"Sensor 11\")\n",
    "ax13.plot(alarm_sensors_A5[\"Sensor 12\"])\n",
    "ax13.set_title(\"Sensor 12\")\n",
    "ax14.plot(alarm_sensors_A5[\"Sensor 13\"])\n",
    "ax14.set_title(\"Sensor 13\")\n",
    "ax15.plot(alarm_sensors_A5[\"Sensor 14\"])\n",
    "ax15.set_title(\"Sensor 14\")\n",
    "ax16.plot(alarm_sensors_A5[\"Sensor 15\"])\n",
    "ax16.set_title(\"Sensor 15\")"
   ]
  },
  {
   "cell_type": "markdown",
   "metadata": {},
   "source": [
    "### Predictive Maintenance: Task 2\n",
    "Once the alarms have been identified find some possible correlation between the variables and those alarms.\n",
    "\n",
    "We select the sensors with °C, %, bar, V as UDM, because these sensors we know how the method (mean) to reseample."
   ]
  },
  {
   "cell_type": "code",
   "execution_count": 14,
   "metadata": {},
   "outputs": [],
   "source": [
    "condition =(\n",
    "    (df[\"metric\"]==\"P10\")|\n",
    "    (df[\"metric\"]==\"P16\")|\n",
    "    (df[\"metric\"]==\"P17\")|\n",
    "    (df[\"metric\"]==\"P18\")|\n",
    "    (df[\"metric\"]==\"P5\")|\n",
    "    (df[\"metric\"]==\"P6\")|\n",
    "    (df[\"metric\"]==\"P7\")|\n",
    "    (df[\"metric\"]==\"P8\")|\n",
    "    (df[\"metric\"]==\"P9\")|\n",
    "    (df[\"metric\"]==\"S10\")|\n",
    "    (df[\"metric\"]==\"S100\")|\n",
    "    (df[\"metric\"]==\"S101\")|\n",
    "    (df[\"metric\"]==\"S102\")|\n",
    "    (df[\"metric\"]==\"S106\")|\n",
    "    (df[\"metric\"]==\"S107\")|\n",
    "    (df[\"metric\"]==\"S108\")|\n",
    "    (df[\"metric\"]==\"S109\")|\n",
    "    (df[\"metric\"]==\"S110\")|\n",
    "    (df[\"metric\"]==\"S122\")|\n",
    "    (df[\"metric\"]==\"S124\")|\n",
    "    (df[\"metric\"]==\"S125\")|\n",
    "    (df[\"metric\"]==\"S128\")|\n",
    "    (df[\"metric\"]==\"S129\")|\n",
    "    (df[\"metric\"]==\"S137\")|\n",
    "    (df[\"metric\"]==\"S143\")|\n",
    "    (df[\"metric\"]==\"S147\")|\n",
    "    (df[\"metric\"]==\"S151\")|\n",
    "    (df[\"metric\"]==\"S157\")|\n",
    "    (df[\"metric\"]==\"S158\")|\n",
    "    (df[\"metric\"]==\"S159\")|\n",
    "    (df[\"metric\"]==\"S163\")|\n",
    "    (df[\"metric\"]==\"S164\")|\n",
    "    (df[\"metric\"]==\"S165\")|\n",
    "    (df[\"metric\"]==\"S166\")|\n",
    "    (df[\"metric\"]==\"S167\")|\n",
    "    (df[\"metric\"]==\"S178\")|\n",
    "    (df[\"metric\"]==\"S180\")|\n",
    "    (df[\"metric\"]==\"S181\")|\n",
    "    (df[\"metric\"]==\"S19\")|\n",
    "    (df[\"metric\"]==\"S3\")|\n",
    "    (df[\"metric\"]==\"S37\")|\n",
    "    (df[\"metric\"]==\"S39\")|\n",
    "    (df[\"metric\"]==\"S40\")|\n",
    "    (df[\"metric\"]==\"S41\")|\n",
    "    (df[\"metric\"]==\"S42\")|\n",
    "    (df[\"metric\"]==\"S43\")|\n",
    "    (df[\"metric\"]==\"S45\")|\n",
    "    (df[\"metric\"]==\"S46\")|\n",
    "    (df[\"metric\"]==\"S47\")|\n",
    "    (df[\"metric\"]==\"S49\")|\n",
    "    (df[\"metric\"]==\"S50\")|\n",
    "    (df[\"metric\"]==\"S6\")|\n",
    "    (df[\"metric\"]==\"S69\")|\n",
    "    (df[\"metric\"]==\"S70\")|\n",
    "    (df[\"metric\"]==\"S71\")|\n",
    "    (df[\"metric\"]==\"S72\")|\n",
    "    (df[\"metric\"]==\"S80\")|\n",
    "    (df[\"metric\"]==\"S86\")|\n",
    "    (df[\"metric\"]==\"S9\")|\n",
    "    (df[\"metric\"]==\"S90\")|\n",
    "    (df[\"metric\"]==\"S94\"))"
   ]
  },
  {
   "cell_type": "markdown",
   "metadata": {},
   "source": [
    "I do not want variabiles with only one value"
   ]
  },
  {
   "cell_type": "code",
   "execution_count": 15,
   "metadata": {},
   "outputs": [],
   "source": [
    "dataTask2 = df[condition].groupby(\"metric\")\n",
    "unique_calc = dataTask2.value.unique().compute()\n",
    "unique = np.array(unique_calc.index[unique_calc.apply(len)> 1])"
   ]
  },
  {
   "cell_type": "code",
   "execution_count": 16,
   "metadata": {},
   "outputs": [],
   "source": [
    "condition2 = (\n",
    "(df[\"metric\"]=='P10')| \n",
    "(df[\"metric\"]=='P16')| \n",
    "(df[\"metric\"]=='P17')| \n",
    "(df[\"metric\"]=='P18')| \n",
    "(df[\"metric\"]=='P5')|\n",
    "(df[\"metric\"]=='P6')|\n",
    "(df[\"metric\"]=='P7')|\n",
    "(df[\"metric\"]=='P8')|\n",
    "(df[\"metric\"]=='P9')|\n",
    "(df[\"metric\"]=='S10')|\n",
    "(df[\"metric\"]=='S100')|\n",
    "(df[\"metric\"]=='S101')| \n",
    "(df[\"metric\"]=='S102')| \n",
    "(df[\"metric\"]=='S107')| \n",
    "(df[\"metric\"]=='S109')| \n",
    "(df[\"metric\"]=='S122')| \n",
    "(df[\"metric\"]=='S124')| \n",
    "(df[\"metric\"]=='S125')| \n",
    "(df[\"metric\"]=='S128')| \n",
    "(df[\"metric\"]=='S129')|\n",
    "(df[\"metric\"]=='S137')| \n",
    "(df[\"metric\"]=='S143')| \n",
    "(df[\"metric\"]=='S147')| \n",
    "(df[\"metric\"]=='S151')| \n",
    "(df[\"metric\"]=='S157')| \n",
    "(df[\"metric\"]=='S158')| \n",
    "(df[\"metric\"]=='S159')|\n",
    "(df[\"metric\"]=='S164')|\n",
    "(df[\"metric\"]=='S166')|\n",
    "(df[\"metric\"]=='S178')|\n",
    "(df[\"metric\"]=='S180')|\n",
    "(df[\"metric\"]=='S181')|\n",
    "(df[\"metric\"]=='S3')|\n",
    "(df[\"metric\"]=='S37')|\n",
    "(df[\"metric\"]=='S39')|\n",
    "(df[\"metric\"]=='S40')|\n",
    "(df[\"metric\"]=='S41')|\n",
    "(df[\"metric\"]=='S46')|\n",
    "(df[\"metric\"]=='S47')|\n",
    "(df[\"metric\"]=='S6')|\n",
    "(df[\"metric\"]=='S70')|\n",
    "(df[\"metric\"]=='S71')|\n",
    "(df[\"metric\"]=='S72')|\n",
    "(df[\"metric\"]=='S80')|\n",
    "(df[\"metric\"]=='S86')| \n",
    "(df[\"metric\"]=='S9')|\n",
    "(df[\"metric\"]=='S90')| \n",
    "(df[\"metric\"]=='S94')\n",
    ")"
   ]
  },
  {
   "cell_type": "code",
   "execution_count": 17,
   "metadata": {},
   "outputs": [
    {
     "name": "stderr",
     "output_type": "stream",
     "text": [
      "<ipython-input-17-de391b8381cc>:1: UserWarning: `meta` is not specified, inferred from partial data. Please provide `meta` if the result is unexpected.\n",
      "  Before: .apply(func)\n",
      "  After:  .apply(func, meta={'x': 'f8', 'y': 'f8'}) for dataframe result\n",
      "  or:     .apply(func, meta=('x', 'f8'))            for series result\n",
      "  dataTask2 = (df[condition2].set_index(\"when\")\n"
     ]
    }
   ],
   "source": [
    "dataTask2 = (df[condition2].set_index(\"when\")\n",
    "            .groupby(\"metric\")\n",
    "            .apply(lambda df: df.resample(\"1min\").mean())\n",
    "            ).compute()\n",
    "dataTask2 = dataTask2.reset_index()\n",
    "dataTask2 = dd.from_pandas(dataTask2, npartitions=4).set_index(\"when\")"
   ]
  },
  {
   "cell_type": "markdown",
   "metadata": {},
   "source": [
    "Based on these sensors we can see if there is overheating, in column fault we have 1 if there is overheating."
   ]
  },
  {
   "cell_type": "code",
   "execution_count": 18,
   "metadata": {
    "scrolled": true
   },
   "outputs": [
    {
     "name": "stderr",
     "output_type": "stream",
     "text": [
      "<ipython-input-18-ba793115873e>:7: SettingWithCopyWarning: \n",
      "A value is trying to be set on a copy of a slice from a DataFrame.\n",
      "Try using .loc[row_indexer,col_indexer] = value instead\n",
      "\n",
      "See the caveats in the documentation: https://pandas.pydata.org/pandas-docs/stable/user_guide/indexing.html#returning-a-view-versus-a-copy\n",
      "  alarm_sensors_A5[\"fault\"] = alarm_sensors_A5.apply(f,axis=1)\n",
      "<ipython-input-18-ba793115873e>:8: SettingWithCopyWarning: \n",
      "A value is trying to be set on a copy of a slice from a DataFrame.\n",
      "Try using .loc[row_indexer,col_indexer] = value instead\n",
      "\n",
      "See the caveats in the documentation: https://pandas.pydata.org/pandas-docs/stable/user_guide/indexing.html#returning-a-view-versus-a-copy\n",
      "  alarm_sensors_A9[\"fault\"] = alarm_sensors_A9.apply(f,axis=1)\n"
     ]
    }
   ],
   "source": [
    "def f(row):\n",
    "    if ((row['Sensor 6'] ==\"1\") | (row['Sensor 7'] ==\"1\") | (row['Sensor 8'] ==\"1\")):\n",
    "        val = 1\n",
    "    else:\n",
    "        val = 0\n",
    "    return val\n",
    "alarm_sensors_A5[\"fault\"] = alarm_sensors_A5.apply(f,axis=1)\n",
    "alarm_sensors_A9[\"fault\"] = alarm_sensors_A9.apply(f,axis=1)"
   ]
  },
  {
   "cell_type": "markdown",
   "metadata": {},
   "source": [
    "There are only 11 timestamps with overheating"
   ]
  },
  {
   "cell_type": "code",
   "execution_count": 19,
   "metadata": {},
   "outputs": [
    {
     "data": {
      "text/plain": [
       "when\n",
       "2021-01-11 14:11:00    1.0\n",
       "2021-01-12 00:07:00    1.0\n",
       "2021-01-12 00:08:00    1.0\n",
       "2021-01-12 12:24:00    1.0\n",
       "2021-01-13 00:10:00    1.0\n",
       "2021-02-03 16:09:00    1.0\n",
       "2021-02-03 16:10:00    1.0\n",
       "2021-02-03 16:51:00    1.0\n",
       "2021-02-03 16:52:00    1.0\n",
       "2021-02-05 15:55:00    1.0\n",
       "2021-02-05 15:56:00    1.0\n",
       "dtype: float64"
      ]
     },
     "execution_count": 19,
     "metadata": {},
     "output_type": "execute_result"
    }
   ],
   "source": [
    "list_of_series = [alarm_sensors_A5[\"fault\"],alarm_sensors_A9[\"fault\"]]\n",
    "cols = [\"A5\", \"A9\"]\n",
    "df_fault = pd.concat(list_of_series, axis=1)\n",
    "fault = df_fault.sum(axis=1)\n",
    "fault[fault==2.0] = 1.0\n",
    "fault.loc[fault==1.0]"
   ]
  },
  {
   "cell_type": "code",
   "execution_count": 20,
   "metadata": {},
   "outputs": [
    {
     "data": {
      "text/html": [
       "<div>\n",
       "<style scoped>\n",
       "    .dataframe tbody tr th:only-of-type {\n",
       "        vertical-align: middle;\n",
       "    }\n",
       "\n",
       "    .dataframe tbody tr th {\n",
       "        vertical-align: top;\n",
       "    }\n",
       "\n",
       "    .dataframe thead th {\n",
       "        text-align: right;\n",
       "    }\n",
       "</style>\n",
       "<table border=\"1\" class=\"dataframe\">\n",
       "  <thead>\n",
       "    <tr style=\"text-align: right;\">\n",
       "      <th></th>\n",
       "      <th>fault</th>\n",
       "    </tr>\n",
       "    <tr>\n",
       "      <th>when</th>\n",
       "      <th></th>\n",
       "    </tr>\n",
       "  </thead>\n",
       "  <tbody>\n",
       "    <tr>\n",
       "      <th>2020-10-01 00:06:00</th>\n",
       "      <td>0.0</td>\n",
       "    </tr>\n",
       "    <tr>\n",
       "      <th>2020-10-01 00:07:00</th>\n",
       "      <td>0.0</td>\n",
       "    </tr>\n",
       "    <tr>\n",
       "      <th>2020-10-01 00:14:00</th>\n",
       "      <td>0.0</td>\n",
       "    </tr>\n",
       "    <tr>\n",
       "      <th>2020-10-01 00:16:00</th>\n",
       "      <td>0.0</td>\n",
       "    </tr>\n",
       "    <tr>\n",
       "      <th>2020-10-01 08:06:00</th>\n",
       "      <td>0.0</td>\n",
       "    </tr>\n",
       "    <tr>\n",
       "      <th>...</th>\n",
       "      <td>...</td>\n",
       "    </tr>\n",
       "    <tr>\n",
       "      <th>2021-03-31 00:29:00</th>\n",
       "      <td>0.0</td>\n",
       "    </tr>\n",
       "    <tr>\n",
       "      <th>2021-03-31 14:44:00</th>\n",
       "      <td>0.0</td>\n",
       "    </tr>\n",
       "    <tr>\n",
       "      <th>2021-03-31 14:56:00</th>\n",
       "      <td>0.0</td>\n",
       "    </tr>\n",
       "    <tr>\n",
       "      <th>2021-03-31 15:13:00</th>\n",
       "      <td>0.0</td>\n",
       "    </tr>\n",
       "    <tr>\n",
       "      <th>2021-03-31 16:09:00</th>\n",
       "      <td>0.0</td>\n",
       "    </tr>\n",
       "  </tbody>\n",
       "</table>\n",
       "<p>763 rows × 1 columns</p>\n",
       "</div>"
      ],
      "text/plain": [
       "                     fault\n",
       "when                      \n",
       "2020-10-01 00:06:00    0.0\n",
       "2020-10-01 00:07:00    0.0\n",
       "2020-10-01 00:14:00    0.0\n",
       "2020-10-01 00:16:00    0.0\n",
       "2020-10-01 08:06:00    0.0\n",
       "...                    ...\n",
       "2021-03-31 00:29:00    0.0\n",
       "2021-03-31 14:44:00    0.0\n",
       "2021-03-31 14:56:00    0.0\n",
       "2021-03-31 15:13:00    0.0\n",
       "2021-03-31 16:09:00    0.0\n",
       "\n",
       "[763 rows x 1 columns]"
      ]
     },
     "execution_count": 20,
     "metadata": {},
     "output_type": "execute_result"
    }
   ],
   "source": [
    "fault = pd.DataFrame(fault, columns=[\"fault\"]).dropna()\n",
    "fault"
   ]
  },
  {
   "cell_type": "code",
   "execution_count": 21,
   "metadata": {},
   "outputs": [],
   "source": [
    "sensors = dataTask2.metric.unique().compute()"
   ]
  },
  {
   "cell_type": "code",
   "execution_count": 22,
   "metadata": {},
   "outputs": [],
   "source": [
    "sensorNameCorr = {}\n",
    "fault_dd = dd.from_pandas(fault ,npartitions=1)\n",
    "for sensorName in sensors:\n",
    "    corrCoeff = fault_dd.fault.corr(dataTask2.loc[dataTask2[\"metric\"]==sensorName].value).compute()\n",
    "    sensorNameCorr[sensorName] = corrCoeff"
   ]
  },
  {
   "cell_type": "code",
   "execution_count": 116,
   "metadata": {
    "scrolled": false
   },
   "outputs": [
    {
     "data": {
      "text/plain": [
       "{'P17': 0.10420301388274987,\n",
       " 'S46': 0.08167720881711393,\n",
       " 'S147': -0.0731500800954839,\n",
       " 'S158': 0.03675959646929441,\n",
       " 'S41': -0.04843131681598142,\n",
       " 'S128': 0.13280233973186942,\n",
       " 'S122': -0.08527801746719857,\n",
       " 'S86': -0.09123267790666365,\n",
       " 'P5': 0.00012166979483679468,\n",
       " 'P9': -0.008150941387854053,\n",
       " 'P8': 0.008237908938048795,\n",
       " 'S157': 0.04333089701316206,\n",
       " 'S3': -0.018851613516938773,\n",
       " 'S10': -0.11110679699416383,\n",
       " 'S80': 0.02449360576856097,\n",
       " 'P6': 0.022307506659304633,\n",
       " 'S47': 0.08610412811620051,\n",
       " 'S180': 0.08545518032219095,\n",
       " 'P16': 0.023810551312662933,\n",
       " 'S37': -0.15613430347460752,\n",
       " 'S9': -0.09184202898583023,\n",
       " 'S39': 0.002655908454967262,\n",
       " 'S101': 0.04541806930123482,\n",
       " 'S166': -0.008351772791201454,\n",
       " 'S124': -0.0662214355935204,\n",
       " 'S143': -0.007910620219741602,\n",
       " 'S178': -0.06899875121095295,\n",
       " 'S102': -0.08969143143933662,\n",
       " 'S72': 0.04296787033362624,\n",
       " 'S70': -0.18732615326721272,\n",
       " 'S100': 0.060200089381927724,\n",
       " 'S151': 0.023253539575764193,\n",
       " 'P18': 0.012367140804995356,\n",
       " 'S109': -0.07633782780392594,\n",
       " 'S40': 0.005462283539533857,\n",
       " 'S94': -0.07451748669957937,\n",
       " 'P10': 0.07396362379655264,\n",
       " 'S107': -0.0105812008020932,\n",
       " 'S181': -0.043522074555137936,\n",
       " 'S6': 0.021559098615333134,\n",
       " 'P7': 0.01236714080499516,\n",
       " 'S137': 0.07883100586890915,\n",
       " 'S129': 0.0853610404891192,\n",
       " 'S164': -0.0008770492215884456,\n",
       " 'S71': 0.023682242023313458,\n",
       " 'S125': -0.09591501322611301,\n",
       " 'S159': -0.07135474986638797,\n",
       " 'S90': -0.06534653048168013}"
      ]
     },
     "execution_count": 116,
     "metadata": {},
     "output_type": "execute_result"
    }
   ],
   "source": [
    "sensorNameCorr"
   ]
  },
  {
   "cell_type": "markdown",
   "metadata": {},
   "source": [
    "### Task 3\n",
    "\n",
    "With the figured out correlations, try to predict an alarm in the future. E.g: given\n",
    "a set of correlated features (variable) at time $T_{i−1}$ try to predict if at time $T_i$ there\n",
    "will a fault or not.\n",
    "\n",
    "S128 and S70 have the highest correlation with the fault sensors, for this reason S128 was choosen to predict if there will be a fault in the future. We try to predict 1 april 2021."
   ]
  },
  {
   "cell_type": "code",
   "execution_count": 24,
   "metadata": {},
   "outputs": [
    {
     "data": {
      "text/html": [
       "<div>\n",
       "<style scoped>\n",
       "    .dataframe tbody tr th:only-of-type {\n",
       "        vertical-align: middle;\n",
       "    }\n",
       "\n",
       "    .dataframe tbody tr th {\n",
       "        vertical-align: top;\n",
       "    }\n",
       "\n",
       "    .dataframe thead th {\n",
       "        text-align: right;\n",
       "    }\n",
       "</style>\n",
       "<table border=\"1\" class=\"dataframe\">\n",
       "  <thead>\n",
       "    <tr style=\"text-align: right;\">\n",
       "      <th></th>\n",
       "      <th>metric</th>\n",
       "      <th>value</th>\n",
       "    </tr>\n",
       "    <tr>\n",
       "      <th>when</th>\n",
       "      <th></th>\n",
       "      <th></th>\n",
       "    </tr>\n",
       "  </thead>\n",
       "  <tbody>\n",
       "    <tr>\n",
       "      <th>2020-10-01 00:06:00</th>\n",
       "      <td>S128</td>\n",
       "      <td>71.428571</td>\n",
       "    </tr>\n",
       "    <tr>\n",
       "      <th>2020-10-01 00:07:00</th>\n",
       "      <td>S128</td>\n",
       "      <td>71.571429</td>\n",
       "    </tr>\n",
       "    <tr>\n",
       "      <th>2020-10-01 00:14:00</th>\n",
       "      <td>S128</td>\n",
       "      <td>80.200000</td>\n",
       "    </tr>\n",
       "    <tr>\n",
       "      <th>2020-10-01 00:16:00</th>\n",
       "      <td>S128</td>\n",
       "      <td>75.333333</td>\n",
       "    </tr>\n",
       "    <tr>\n",
       "      <th>2020-10-01 08:06:00</th>\n",
       "      <td>S128</td>\n",
       "      <td>69.500000</td>\n",
       "    </tr>\n",
       "    <tr>\n",
       "      <th>...</th>\n",
       "      <td>...</td>\n",
       "      <td>...</td>\n",
       "    </tr>\n",
       "    <tr>\n",
       "      <th>2021-03-31 00:29:00</th>\n",
       "      <td>S128</td>\n",
       "      <td>83.000000</td>\n",
       "    </tr>\n",
       "    <tr>\n",
       "      <th>2021-03-31 14:44:00</th>\n",
       "      <td>S128</td>\n",
       "      <td>90.000000</td>\n",
       "    </tr>\n",
       "    <tr>\n",
       "      <th>2021-03-31 14:56:00</th>\n",
       "      <td>S128</td>\n",
       "      <td>63.333333</td>\n",
       "    </tr>\n",
       "    <tr>\n",
       "      <th>2021-03-31 15:13:00</th>\n",
       "      <td>S128</td>\n",
       "      <td>71.000000</td>\n",
       "    </tr>\n",
       "    <tr>\n",
       "      <th>2021-03-31 16:09:00</th>\n",
       "      <td>S128</td>\n",
       "      <td>66.333333</td>\n",
       "    </tr>\n",
       "  </tbody>\n",
       "</table>\n",
       "<p>763 rows × 2 columns</p>\n",
       "</div>"
      ],
      "text/plain": [
       "                    metric      value\n",
       "when                                 \n",
       "2020-10-01 00:06:00   S128  71.428571\n",
       "2020-10-01 00:07:00   S128  71.571429\n",
       "2020-10-01 00:14:00   S128  80.200000\n",
       "2020-10-01 00:16:00   S128  75.333333\n",
       "2020-10-01 08:06:00   S128  69.500000\n",
       "...                    ...        ...\n",
       "2021-03-31 00:29:00   S128  83.000000\n",
       "2021-03-31 14:44:00   S128  90.000000\n",
       "2021-03-31 14:56:00   S128  63.333333\n",
       "2021-03-31 15:13:00   S128  71.000000\n",
       "2021-03-31 16:09:00   S128  66.333333\n",
       "\n",
       "[763 rows x 2 columns]"
      ]
     },
     "execution_count": 24,
     "metadata": {},
     "output_type": "execute_result"
    }
   ],
   "source": [
    "#We select only the values of S128 that we know if are associated with overheating or not\n",
    "S128 = dataTask2.loc[dataTask2[\"metric\"]==\"S128\"].compute()\n",
    "S128_reduced = S128.loc[fault.index]\n",
    "S128_reduced"
   ]
  },
  {
   "cell_type": "code",
   "execution_count": 25,
   "metadata": {},
   "outputs": [
    {
     "data": {
      "text/html": [
       "<div>\n",
       "<style scoped>\n",
       "    .dataframe tbody tr th:only-of-type {\n",
       "        vertical-align: middle;\n",
       "    }\n",
       "\n",
       "    .dataframe tbody tr th {\n",
       "        vertical-align: top;\n",
       "    }\n",
       "\n",
       "    .dataframe thead th {\n",
       "        text-align: right;\n",
       "    }\n",
       "</style>\n",
       "<table border=\"1\" class=\"dataframe\">\n",
       "  <thead>\n",
       "    <tr style=\"text-align: right;\">\n",
       "      <th></th>\n",
       "      <th>fault</th>\n",
       "      <th>metric</th>\n",
       "      <th>value</th>\n",
       "    </tr>\n",
       "    <tr>\n",
       "      <th>when</th>\n",
       "      <th></th>\n",
       "      <th></th>\n",
       "      <th></th>\n",
       "    </tr>\n",
       "  </thead>\n",
       "  <tbody>\n",
       "    <tr>\n",
       "      <th>2020-10-01 00:06:00</th>\n",
       "      <td>0.0</td>\n",
       "      <td>S128</td>\n",
       "      <td>71.428571</td>\n",
       "    </tr>\n",
       "    <tr>\n",
       "      <th>2020-10-01 00:07:00</th>\n",
       "      <td>0.0</td>\n",
       "      <td>S128</td>\n",
       "      <td>71.571429</td>\n",
       "    </tr>\n",
       "    <tr>\n",
       "      <th>2020-10-01 00:14:00</th>\n",
       "      <td>0.0</td>\n",
       "      <td>S128</td>\n",
       "      <td>80.200000</td>\n",
       "    </tr>\n",
       "    <tr>\n",
       "      <th>2020-10-01 00:16:00</th>\n",
       "      <td>0.0</td>\n",
       "      <td>S128</td>\n",
       "      <td>75.333333</td>\n",
       "    </tr>\n",
       "    <tr>\n",
       "      <th>2020-10-01 08:06:00</th>\n",
       "      <td>0.0</td>\n",
       "      <td>S128</td>\n",
       "      <td>69.500000</td>\n",
       "    </tr>\n",
       "    <tr>\n",
       "      <th>...</th>\n",
       "      <td>...</td>\n",
       "      <td>...</td>\n",
       "      <td>...</td>\n",
       "    </tr>\n",
       "    <tr>\n",
       "      <th>2021-03-31 00:29:00</th>\n",
       "      <td>0.0</td>\n",
       "      <td>S128</td>\n",
       "      <td>83.000000</td>\n",
       "    </tr>\n",
       "    <tr>\n",
       "      <th>2021-03-31 14:44:00</th>\n",
       "      <td>0.0</td>\n",
       "      <td>S128</td>\n",
       "      <td>90.000000</td>\n",
       "    </tr>\n",
       "    <tr>\n",
       "      <th>2021-03-31 14:56:00</th>\n",
       "      <td>0.0</td>\n",
       "      <td>S128</td>\n",
       "      <td>63.333333</td>\n",
       "    </tr>\n",
       "    <tr>\n",
       "      <th>2021-03-31 15:13:00</th>\n",
       "      <td>0.0</td>\n",
       "      <td>S128</td>\n",
       "      <td>71.000000</td>\n",
       "    </tr>\n",
       "    <tr>\n",
       "      <th>2021-03-31 16:09:00</th>\n",
       "      <td>0.0</td>\n",
       "      <td>S128</td>\n",
       "      <td>66.333333</td>\n",
       "    </tr>\n",
       "  </tbody>\n",
       "</table>\n",
       "<p>763 rows × 3 columns</p>\n",
       "</div>"
      ],
      "text/plain": [
       "                     fault metric      value\n",
       "when                                        \n",
       "2020-10-01 00:06:00    0.0   S128  71.428571\n",
       "2020-10-01 00:07:00    0.0   S128  71.571429\n",
       "2020-10-01 00:14:00    0.0   S128  80.200000\n",
       "2020-10-01 00:16:00    0.0   S128  75.333333\n",
       "2020-10-01 08:06:00    0.0   S128  69.500000\n",
       "...                    ...    ...        ...\n",
       "2021-03-31 00:29:00    0.0   S128  83.000000\n",
       "2021-03-31 14:44:00    0.0   S128  90.000000\n",
       "2021-03-31 14:56:00    0.0   S128  63.333333\n",
       "2021-03-31 15:13:00    0.0   S128  71.000000\n",
       "2021-03-31 16:09:00    0.0   S128  66.333333\n",
       "\n",
       "[763 rows x 3 columns]"
      ]
     },
     "execution_count": 25,
     "metadata": {},
     "output_type": "execute_result"
    }
   ],
   "source": [
    "dfs = [fault, S128_reduced]\n",
    "dataframe_fault_value = pd.concat(dfs,axis=1)\n",
    "dataframe_fault_value"
   ]
  },
  {
   "cell_type": "markdown",
   "metadata": {},
   "source": [
    "Unbalanced dataset with 752 values with fault equal to zero and 11 values with one. Maybe is better to select a\n",
    "subset of the values equals to zero, we tried with 100 values with fault 0 and 11 values with 1."
   ]
  },
  {
   "cell_type": "code",
   "execution_count": 26,
   "metadata": {},
   "outputs": [
    {
     "data": {
      "text/html": [
       "<div>\n",
       "<style scoped>\n",
       "    .dataframe tbody tr th:only-of-type {\n",
       "        vertical-align: middle;\n",
       "    }\n",
       "\n",
       "    .dataframe tbody tr th {\n",
       "        vertical-align: top;\n",
       "    }\n",
       "\n",
       "    .dataframe thead th {\n",
       "        text-align: right;\n",
       "    }\n",
       "</style>\n",
       "<table border=\"1\" class=\"dataframe\">\n",
       "  <thead>\n",
       "    <tr style=\"text-align: right;\">\n",
       "      <th></th>\n",
       "      <th>fault</th>\n",
       "      <th>metric</th>\n",
       "      <th>value</th>\n",
       "    </tr>\n",
       "    <tr>\n",
       "      <th>when</th>\n",
       "      <th></th>\n",
       "      <th></th>\n",
       "      <th></th>\n",
       "    </tr>\n",
       "  </thead>\n",
       "  <tbody>\n",
       "    <tr>\n",
       "      <th>2020-10-01 00:06:00</th>\n",
       "      <td>0.0</td>\n",
       "      <td>S128</td>\n",
       "      <td>71.428571</td>\n",
       "    </tr>\n",
       "    <tr>\n",
       "      <th>2020-10-02 08:01:00</th>\n",
       "      <td>0.0</td>\n",
       "      <td>S128</td>\n",
       "      <td>64.333333</td>\n",
       "    </tr>\n",
       "    <tr>\n",
       "      <th>2020-10-02 21:34:00</th>\n",
       "      <td>0.0</td>\n",
       "      <td>S128</td>\n",
       "      <td>88.000000</td>\n",
       "    </tr>\n",
       "    <tr>\n",
       "      <th>2020-10-02 23:00:00</th>\n",
       "      <td>0.0</td>\n",
       "      <td>S128</td>\n",
       "      <td>72.666667</td>\n",
       "    </tr>\n",
       "    <tr>\n",
       "      <th>2020-10-03 00:51:00</th>\n",
       "      <td>0.0</td>\n",
       "      <td>S128</td>\n",
       "      <td>70.000000</td>\n",
       "    </tr>\n",
       "    <tr>\n",
       "      <th>...</th>\n",
       "      <td>...</td>\n",
       "      <td>...</td>\n",
       "      <td>...</td>\n",
       "    </tr>\n",
       "    <tr>\n",
       "      <th>2021-03-15 00:09:00</th>\n",
       "      <td>0.0</td>\n",
       "      <td>S128</td>\n",
       "      <td>53.333333</td>\n",
       "    </tr>\n",
       "    <tr>\n",
       "      <th>2021-03-15 00:16:00</th>\n",
       "      <td>0.0</td>\n",
       "      <td>S128</td>\n",
       "      <td>54.000000</td>\n",
       "    </tr>\n",
       "    <tr>\n",
       "      <th>2021-03-22 00:15:00</th>\n",
       "      <td>0.0</td>\n",
       "      <td>S128</td>\n",
       "      <td>50.500000</td>\n",
       "    </tr>\n",
       "    <tr>\n",
       "      <th>2021-03-30 00:25:00</th>\n",
       "      <td>0.0</td>\n",
       "      <td>S128</td>\n",
       "      <td>81.000000</td>\n",
       "    </tr>\n",
       "    <tr>\n",
       "      <th>2021-03-31 16:09:00</th>\n",
       "      <td>0.0</td>\n",
       "      <td>S128</td>\n",
       "      <td>66.333333</td>\n",
       "    </tr>\n",
       "  </tbody>\n",
       "</table>\n",
       "<p>111 rows × 3 columns</p>\n",
       "</div>"
      ],
      "text/plain": [
       "                     fault metric      value\n",
       "when                                        \n",
       "2020-10-01 00:06:00    0.0   S128  71.428571\n",
       "2020-10-02 08:01:00    0.0   S128  64.333333\n",
       "2020-10-02 21:34:00    0.0   S128  88.000000\n",
       "2020-10-02 23:00:00    0.0   S128  72.666667\n",
       "2020-10-03 00:51:00    0.0   S128  70.000000\n",
       "...                    ...    ...        ...\n",
       "2021-03-15 00:09:00    0.0   S128  53.333333\n",
       "2021-03-15 00:16:00    0.0   S128  54.000000\n",
       "2021-03-22 00:15:00    0.0   S128  50.500000\n",
       "2021-03-30 00:25:00    0.0   S128  81.000000\n",
       "2021-03-31 16:09:00    0.0   S128  66.333333\n",
       "\n",
       "[111 rows x 3 columns]"
      ]
     },
     "execution_count": 26,
     "metadata": {},
     "output_type": "execute_result"
    }
   ],
   "source": [
    "rows_0 = np.random.choice(dataframe_fault_value[dataframe_fault_value.fault==0].index.values, 100)\n",
    "rows_1 = dataframe_fault_value[dataframe_fault_value.fault==1].index.values\n",
    "equalized_dataframe_fault_value = dataframe_fault_value.loc[np.concatenate((rows_0,rows_1))].sort_index()\n",
    "equalized_dataframe_fault_value"
   ]
  },
  {
   "cell_type": "markdown",
   "metadata": {},
   "source": [
    "Firstly we train a classification model in order to see if there is overheating by knowing the output of S128.\n",
    "We need a model such a RNN that can predict the label by exploiting temporal information, but instead of using a delta-t of samples, for the sake of semplicity we use a simple MLPclassifier with single samples, the results are obviously worse."
   ]
  },
  {
   "cell_type": "code",
   "execution_count": 27,
   "metadata": {},
   "outputs": [
    {
     "name": "stderr",
     "output_type": "stream",
     "text": [
      "/home/mattia/.local/lib/python3.8/site-packages/sklearn/utils/validation.py:63: DataConversionWarning: A column-vector y was passed when a 1d array was expected. Please change the shape of y to (n_samples, ), for example using ravel().\n",
      "  return f(*args, **kwargs)\n"
     ]
    },
    {
     "name": "stdout",
     "output_type": "stream",
     "text": [
      "Iteration 1, loss = 0.60752550\n",
      "Iteration 2, loss = 0.60497267\n",
      "Iteration 3, loss = 0.60243206\n",
      "Iteration 4, loss = 0.59990834\n",
      "Iteration 5, loss = 0.59740350\n",
      "Iteration 6, loss = 0.59491917\n",
      "Iteration 7, loss = 0.59244971\n",
      "Iteration 8, loss = 0.58999650\n",
      "Iteration 9, loss = 0.58756181\n",
      "Iteration 10, loss = 0.58514269\n",
      "Iteration 11, loss = 0.58274001\n",
      "Iteration 12, loss = 0.58036554\n",
      "Iteration 13, loss = 0.57801375\n",
      "Iteration 14, loss = 0.57568171\n",
      "Iteration 15, loss = 0.57337061\n",
      "Iteration 16, loss = 0.57107580\n",
      "Iteration 17, loss = 0.56880038\n",
      "Iteration 18, loss = 0.56654275\n",
      "Iteration 19, loss = 0.56430785\n",
      "Iteration 20, loss = 0.56209085\n",
      "Iteration 21, loss = 0.55988962\n",
      "Iteration 22, loss = 0.55770472\n",
      "Iteration 23, loss = 0.55553564\n",
      "Iteration 24, loss = 0.55338455\n",
      "Iteration 25, loss = 0.55124986\n",
      "Iteration 26, loss = 0.54913727\n",
      "Iteration 27, loss = 0.54705000\n",
      "Iteration 28, loss = 0.54498450\n",
      "Iteration 29, loss = 0.54293323\n",
      "Iteration 30, loss = 0.54089773\n",
      "Iteration 31, loss = 0.53888360\n",
      "Iteration 32, loss = 0.53688619\n",
      "Iteration 33, loss = 0.53490545\n",
      "Iteration 34, loss = 0.53294252\n",
      "Iteration 35, loss = 0.53099800\n",
      "Iteration 36, loss = 0.52907000\n",
      "Iteration 37, loss = 0.52715616\n",
      "Iteration 38, loss = 0.52525610\n",
      "Iteration 39, loss = 0.52336924\n",
      "Iteration 40, loss = 0.52149712\n",
      "Iteration 41, loss = 0.51963856\n",
      "Iteration 42, loss = 0.51779240\n",
      "Iteration 43, loss = 0.51595892\n",
      "Iteration 44, loss = 0.51414515\n",
      "Iteration 45, loss = 0.51234459\n",
      "Iteration 46, loss = 0.51054785\n",
      "Iteration 47, loss = 0.50876088\n",
      "Iteration 48, loss = 0.50698445\n",
      "Iteration 49, loss = 0.50522144\n",
      "Iteration 50, loss = 0.50347289\n",
      "Iteration 51, loss = 0.50173847\n",
      "Iteration 52, loss = 0.50001454\n",
      "Iteration 53, loss = 0.49830241\n",
      "Iteration 54, loss = 0.49660647\n",
      "Iteration 55, loss = 0.49492103\n",
      "Iteration 56, loss = 0.49324524\n",
      "Iteration 57, loss = 0.49157867\n",
      "Iteration 58, loss = 0.48991845\n",
      "Iteration 59, loss = 0.48826897\n",
      "Iteration 60, loss = 0.48663118\n",
      "Iteration 61, loss = 0.48500045\n",
      "Iteration 62, loss = 0.48337784\n",
      "Iteration 63, loss = 0.48176394\n",
      "Iteration 64, loss = 0.48015767\n",
      "Iteration 65, loss = 0.47856227\n",
      "Iteration 66, loss = 0.47698799\n",
      "Iteration 67, loss = 0.47542786\n",
      "Iteration 68, loss = 0.47388089\n",
      "Iteration 69, loss = 0.47234334\n",
      "Iteration 70, loss = 0.47081409\n",
      "Iteration 71, loss = 0.46929550\n",
      "Iteration 72, loss = 0.46778953\n",
      "Iteration 73, loss = 0.46629363\n",
      "Iteration 74, loss = 0.46480993\n",
      "Iteration 75, loss = 0.46333443\n",
      "Iteration 76, loss = 0.46186218\n",
      "Iteration 77, loss = 0.46039776\n",
      "Iteration 78, loss = 0.45893987\n",
      "Iteration 79, loss = 0.45749493\n",
      "Iteration 80, loss = 0.45606077\n",
      "Iteration 81, loss = 0.45463353\n",
      "Iteration 82, loss = 0.45321384\n",
      "Iteration 83, loss = 0.45180204\n",
      "Iteration 84, loss = 0.45039630\n",
      "Iteration 85, loss = 0.44899602\n",
      "Iteration 86, loss = 0.44760060\n",
      "Iteration 87, loss = 0.44621256\n",
      "Iteration 88, loss = 0.44483274\n",
      "Iteration 89, loss = 0.44345993\n",
      "Iteration 90, loss = 0.44210119\n",
      "Iteration 91, loss = 0.44075527\n",
      "Iteration 92, loss = 0.43941509\n",
      "Iteration 93, loss = 0.43808102\n",
      "Iteration 94, loss = 0.43675370\n",
      "Iteration 95, loss = 0.43543114\n",
      "Iteration 96, loss = 0.43411620\n",
      "Iteration 97, loss = 0.43280778\n",
      "Iteration 98, loss = 0.43150427\n",
      "Iteration 99, loss = 0.43020874\n",
      "Iteration 100, loss = 0.42891874\n",
      "Iteration 101, loss = 0.42763292\n",
      "Iteration 102, loss = 0.42635338\n",
      "Iteration 103, loss = 0.42507996\n",
      "Iteration 104, loss = 0.42381371\n",
      "Iteration 105, loss = 0.42255130\n",
      "Iteration 106, loss = 0.42129724\n",
      "Iteration 107, loss = 0.42004687\n",
      "Iteration 108, loss = 0.41878764\n",
      "Iteration 109, loss = 0.41753107\n",
      "Iteration 110, loss = 0.41628069\n",
      "Iteration 111, loss = 0.41503210\n",
      "Iteration 112, loss = 0.41378527\n",
      "Iteration 113, loss = 0.41254077\n",
      "Iteration 114, loss = 0.41130542\n",
      "Iteration 115, loss = 0.41006946\n",
      "Iteration 116, loss = 0.40883401\n",
      "Iteration 117, loss = 0.40760261\n",
      "Iteration 118, loss = 0.40637444\n",
      "Iteration 119, loss = 0.40514332\n",
      "Iteration 120, loss = 0.40391858\n",
      "Iteration 121, loss = 0.40269509\n",
      "Iteration 122, loss = 0.40147516\n",
      "Iteration 123, loss = 0.40025499\n",
      "Iteration 124, loss = 0.39903378\n",
      "Iteration 125, loss = 0.39781208\n",
      "Iteration 126, loss = 0.39658921\n",
      "Iteration 127, loss = 0.39537050\n",
      "Iteration 128, loss = 0.39415635\n",
      "Iteration 129, loss = 0.39294550\n",
      "Iteration 130, loss = 0.39173795\n",
      "Iteration 131, loss = 0.39053132\n",
      "Iteration 132, loss = 0.38932798\n",
      "Iteration 133, loss = 0.38812996\n",
      "Iteration 134, loss = 0.38693220\n",
      "Iteration 135, loss = 0.38572819\n",
      "Iteration 136, loss = 0.38452341\n",
      "Iteration 137, loss = 0.38331119\n",
      "Iteration 138, loss = 0.38210443\n",
      "Iteration 139, loss = 0.38090222\n",
      "Iteration 140, loss = 0.37970578\n",
      "Iteration 141, loss = 0.37851615\n",
      "Iteration 142, loss = 0.37733398\n",
      "Iteration 143, loss = 0.37616021\n",
      "Iteration 144, loss = 0.37500416\n",
      "Iteration 145, loss = 0.37385577\n",
      "Iteration 146, loss = 0.37271551\n",
      "Iteration 147, loss = 0.37158336\n",
      "Iteration 148, loss = 0.37045878\n",
      "Iteration 149, loss = 0.36934231\n",
      "Iteration 150, loss = 0.36823144\n",
      "Iteration 151, loss = 0.36712904\n",
      "Iteration 152, loss = 0.36603534\n",
      "Iteration 153, loss = 0.36495018\n",
      "Iteration 154, loss = 0.36387384\n",
      "Iteration 155, loss = 0.36280650\n",
      "Iteration 156, loss = 0.36174822\n",
      "Iteration 157, loss = 0.36069930\n",
      "Iteration 158, loss = 0.35965922\n",
      "Iteration 159, loss = 0.35862801\n",
      "Iteration 160, loss = 0.35760339\n",
      "Iteration 161, loss = 0.35658584\n",
      "Iteration 162, loss = 0.35557489\n",
      "Iteration 163, loss = 0.35456690\n",
      "Iteration 164, loss = 0.35356138\n",
      "Iteration 165, loss = 0.35255423\n",
      "Iteration 166, loss = 0.35155458\n",
      "Iteration 167, loss = 0.35056259\n",
      "Iteration 168, loss = 0.34957809\n",
      "Iteration 169, loss = 0.34860083\n",
      "Iteration 170, loss = 0.34763197\n",
      "Iteration 171, loss = 0.34667222\n",
      "Iteration 172, loss = 0.34572104\n",
      "Iteration 173, loss = 0.34477872\n",
      "Iteration 174, loss = 0.34384498\n",
      "Iteration 175, loss = 0.34292133\n",
      "Iteration 176, loss = 0.34200814\n",
      "Iteration 177, loss = 0.34110343\n",
      "Iteration 178, loss = 0.34020749\n",
      "Iteration 179, loss = 0.33932033\n",
      "Iteration 180, loss = 0.33844141\n",
      "Iteration 181, loss = 0.33757052\n",
      "Iteration 182, loss = 0.33670740\n",
      "Iteration 183, loss = 0.33585150\n",
      "Iteration 184, loss = 0.33500311\n",
      "Iteration 185, loss = 0.33416230\n",
      "Iteration 186, loss = 0.33332869\n",
      "Iteration 187, loss = 0.33250241\n",
      "Iteration 188, loss = 0.33168441\n",
      "Iteration 189, loss = 0.33087418\n",
      "Iteration 190, loss = 0.33007012\n",
      "Iteration 191, loss = 0.32927290\n",
      "Iteration 192, loss = 0.32848301\n",
      "Iteration 193, loss = 0.32769998\n",
      "Iteration 194, loss = 0.32692359\n",
      "Iteration 195, loss = 0.32615505\n",
      "Iteration 196, loss = 0.32539305\n",
      "Iteration 197, loss = 0.32463836\n",
      "Iteration 198, loss = 0.32389063\n",
      "Iteration 199, loss = 0.32314975\n",
      "Iteration 200, loss = 0.32241636\n",
      "Iteration 201, loss = 0.32168972\n",
      "Iteration 202, loss = 0.32096893\n",
      "Iteration 203, loss = 0.32025403\n",
      "Iteration 204, loss = 0.31954469\n",
      "Iteration 205, loss = 0.31884086\n",
      "Iteration 206, loss = 0.31814231\n",
      "Iteration 207, loss = 0.31744849\n",
      "Iteration 208, loss = 0.31676016\n",
      "Iteration 209, loss = 0.31607795\n",
      "Iteration 210, loss = 0.31540133\n",
      "Iteration 211, loss = 0.31473081\n",
      "Iteration 212, loss = 0.31406600\n",
      "Iteration 213, loss = 0.31340709\n",
      "Iteration 214, loss = 0.31275414\n",
      "Iteration 215, loss = 0.31210690\n",
      "Iteration 216, loss = 0.31146548\n",
      "Iteration 217, loss = 0.31082961\n",
      "Iteration 218, loss = 0.31019895\n",
      "Iteration 219, loss = 0.30957343\n",
      "Iteration 220, loss = 0.30895177\n",
      "Iteration 221, loss = 0.30833551\n",
      "Iteration 222, loss = 0.30772431\n",
      "Iteration 223, loss = 0.30711819\n",
      "Iteration 224, loss = 0.30651728\n",
      "Iteration 225, loss = 0.30592151\n",
      "Iteration 226, loss = 0.30533237\n",
      "Iteration 227, loss = 0.30475588\n",
      "Iteration 228, loss = 0.30418428\n",
      "Iteration 229, loss = 0.30361760\n",
      "Iteration 230, loss = 0.30305623\n",
      "Iteration 231, loss = 0.30249966\n",
      "Iteration 232, loss = 0.30195104\n",
      "Iteration 233, loss = 0.30140915\n",
      "Iteration 234, loss = 0.30087059\n",
      "Iteration 235, loss = 0.30033689\n",
      "Iteration 236, loss = 0.29980760\n",
      "Iteration 237, loss = 0.29928277\n",
      "Iteration 238, loss = 0.29876213\n",
      "Iteration 239, loss = 0.29824501\n",
      "Iteration 240, loss = 0.29773209\n",
      "Iteration 241, loss = 0.29722280\n",
      "Iteration 242, loss = 0.29671758\n",
      "Iteration 243, loss = 0.29621678\n",
      "Iteration 244, loss = 0.29571997\n",
      "Iteration 245, loss = 0.29523039\n",
      "Iteration 246, loss = 0.29474602\n",
      "Iteration 247, loss = 0.29426583\n",
      "Iteration 248, loss = 0.29378949\n",
      "Iteration 249, loss = 0.29331699\n",
      "Iteration 250, loss = 0.29284806\n",
      "Iteration 251, loss = 0.29238280\n",
      "Iteration 252, loss = 0.29192135\n",
      "Iteration 253, loss = 0.29146321\n",
      "Iteration 254, loss = 0.29100815\n",
      "Iteration 255, loss = 0.29055608\n",
      "Iteration 256, loss = 0.29010665\n",
      "Iteration 257, loss = 0.28966030\n",
      "Iteration 258, loss = 0.28921723\n",
      "Iteration 259, loss = 0.28877755\n",
      "Iteration 260, loss = 0.28834134\n",
      "Iteration 261, loss = 0.28790816\n",
      "Iteration 262, loss = 0.28747828\n",
      "Iteration 263, loss = 0.28705204\n",
      "Iteration 264, loss = 0.28662971\n",
      "Iteration 265, loss = 0.28621462\n",
      "Iteration 266, loss = 0.28580730\n",
      "Iteration 267, loss = 0.28540359\n",
      "Iteration 268, loss = 0.28500403\n",
      "Iteration 269, loss = 0.28460818\n",
      "Iteration 270, loss = 0.28421594\n",
      "Iteration 271, loss = 0.28382721\n",
      "Iteration 272, loss = 0.28344183\n",
      "Iteration 273, loss = 0.28305988\n",
      "Iteration 274, loss = 0.28268050\n",
      "Iteration 275, loss = 0.28230434\n",
      "Iteration 276, loss = 0.28193132\n",
      "Iteration 277, loss = 0.28156154\n",
      "Iteration 278, loss = 0.28119500\n",
      "Iteration 279, loss = 0.28083178\n",
      "Iteration 280, loss = 0.28047173\n",
      "Iteration 281, loss = 0.28011486\n",
      "Iteration 282, loss = 0.27976094\n",
      "Iteration 283, loss = 0.27941029\n",
      "Iteration 284, loss = 0.27906322\n",
      "Iteration 285, loss = 0.27872017\n",
      "Iteration 286, loss = 0.27838043\n",
      "Iteration 287, loss = 0.27804383\n",
      "Iteration 288, loss = 0.27771004\n",
      "Iteration 289, loss = 0.27737849\n",
      "Iteration 290, loss = 0.27704872\n",
      "Iteration 291, loss = 0.27672134\n",
      "Iteration 292, loss = 0.27639657\n",
      "Iteration 293, loss = 0.27607443\n",
      "Iteration 294, loss = 0.27575519\n",
      "Iteration 295, loss = 0.27543892\n",
      "Iteration 296, loss = 0.27512569\n",
      "Iteration 297, loss = 0.27481682\n",
      "Iteration 298, loss = 0.27451764\n",
      "Iteration 299, loss = 0.27422098\n",
      "Iteration 300, loss = 0.27392655\n",
      "Iteration 301, loss = 0.27363428\n",
      "Iteration 302, loss = 0.27334442\n",
      "Iteration 303, loss = 0.27305711\n",
      "Iteration 304, loss = 0.27277199\n",
      "Iteration 305, loss = 0.27248926\n",
      "Iteration 306, loss = 0.27220895\n",
      "Iteration 307, loss = 0.27193094\n",
      "Iteration 308, loss = 0.27165537\n",
      "Iteration 309, loss = 0.27138195\n",
      "Iteration 310, loss = 0.27111062\n",
      "Iteration 311, loss = 0.27084088\n",
      "Iteration 312, loss = 0.27057320\n",
      "Iteration 313, loss = 0.27030752\n",
      "Iteration 314, loss = 0.27004413\n",
      "Iteration 315, loss = 0.26978285\n",
      "Iteration 316, loss = 0.26952330\n",
      "Iteration 317, loss = 0.26926558\n",
      "Iteration 318, loss = 0.26900987\n",
      "Iteration 319, loss = 0.26875626\n",
      "Iteration 320, loss = 0.26850800\n",
      "Iteration 321, loss = 0.26826382\n",
      "Iteration 322, loss = 0.26801931\n",
      "Iteration 323, loss = 0.26777608\n"
     ]
    },
    {
     "name": "stdout",
     "output_type": "stream",
     "text": [
      "Iteration 324, loss = 0.26753379\n",
      "Iteration 325, loss = 0.26729281\n",
      "Iteration 326, loss = 0.26705399\n",
      "Iteration 327, loss = 0.26681963\n",
      "Iteration 328, loss = 0.26658697\n",
      "Iteration 329, loss = 0.26635601\n",
      "Iteration 330, loss = 0.26612668\n",
      "Iteration 331, loss = 0.26589914\n",
      "Iteration 332, loss = 0.26567342\n",
      "Iteration 333, loss = 0.26544920\n",
      "Iteration 334, loss = 0.26522787\n",
      "Iteration 335, loss = 0.26500870\n",
      "Iteration 336, loss = 0.26479033\n",
      "Iteration 337, loss = 0.26457318\n",
      "Iteration 338, loss = 0.26435910\n",
      "Iteration 339, loss = 0.26414679\n",
      "Iteration 340, loss = 0.26393566\n",
      "Iteration 341, loss = 0.26372740\n",
      "Iteration 342, loss = 0.26352074\n",
      "Iteration 343, loss = 0.26331428\n",
      "Iteration 344, loss = 0.26311154\n",
      "Iteration 345, loss = 0.26291031\n",
      "Iteration 346, loss = 0.26271015\n",
      "Iteration 347, loss = 0.26251165\n",
      "Iteration 348, loss = 0.26231456\n",
      "Iteration 349, loss = 0.26211879\n",
      "Iteration 350, loss = 0.26192474\n",
      "Iteration 351, loss = 0.26173239\n",
      "Iteration 352, loss = 0.26154085\n",
      "Iteration 353, loss = 0.26135169\n",
      "Iteration 354, loss = 0.26116413\n",
      "Iteration 355, loss = 0.26097708\n",
      "Iteration 356, loss = 0.26079207\n",
      "Iteration 357, loss = 0.26060827\n",
      "Iteration 358, loss = 0.26042679\n",
      "Iteration 359, loss = 0.26024644\n",
      "Iteration 360, loss = 0.26006747\n",
      "Iteration 361, loss = 0.25988986\n",
      "Iteration 362, loss = 0.25971467\n",
      "Iteration 363, loss = 0.25954077\n",
      "Iteration 364, loss = 0.25936817\n",
      "Iteration 365, loss = 0.25919673\n",
      "Iteration 366, loss = 0.25902709\n",
      "Iteration 367, loss = 0.25885886\n",
      "Iteration 368, loss = 0.25869137\n",
      "Iteration 369, loss = 0.25852668\n",
      "Iteration 370, loss = 0.25836254\n",
      "Iteration 371, loss = 0.25819936\n",
      "Iteration 372, loss = 0.25803773\n",
      "Iteration 373, loss = 0.25787722\n",
      "Iteration 374, loss = 0.25771768\n",
      "Iteration 375, loss = 0.25756106\n",
      "Iteration 376, loss = 0.25740461\n",
      "Iteration 377, loss = 0.25724860\n",
      "Iteration 378, loss = 0.25709414\n",
      "Iteration 379, loss = 0.25694202\n",
      "Iteration 380, loss = 0.25679097\n",
      "Iteration 381, loss = 0.25664082\n",
      "Iteration 382, loss = 0.25649159\n",
      "Iteration 383, loss = 0.25634326\n",
      "Iteration 384, loss = 0.25619585\n",
      "Iteration 385, loss = 0.25604987\n",
      "Iteration 386, loss = 0.25590472\n",
      "Iteration 387, loss = 0.25576118\n",
      "Iteration 388, loss = 0.25561795\n",
      "Iteration 389, loss = 0.25547584\n",
      "Iteration 390, loss = 0.25533461\n",
      "Iteration 391, loss = 0.25519463\n",
      "Iteration 392, loss = 0.25505619\n",
      "Iteration 393, loss = 0.25491828\n",
      "Iteration 394, loss = 0.25478107\n",
      "Iteration 395, loss = 0.25464473\n",
      "Iteration 396, loss = 0.25451019\n",
      "Iteration 397, loss = 0.25437594\n",
      "Iteration 398, loss = 0.25424288\n",
      "Iteration 399, loss = 0.25411086\n",
      "Iteration 400, loss = 0.25397981\n",
      "Iteration 401, loss = 0.25384954\n",
      "Iteration 402, loss = 0.25372022\n",
      "Iteration 403, loss = 0.25359170\n",
      "Iteration 404, loss = 0.25346446\n",
      "Iteration 405, loss = 0.25333780\n",
      "Iteration 406, loss = 0.25321149\n",
      "Iteration 407, loss = 0.25308573\n",
      "Iteration 408, loss = 0.25296144\n",
      "Iteration 409, loss = 0.25283790\n",
      "Iteration 410, loss = 0.25271453\n",
      "Iteration 411, loss = 0.25259126\n",
      "Iteration 412, loss = 0.25247026\n",
      "Iteration 413, loss = 0.25234915\n",
      "Iteration 414, loss = 0.25222901\n",
      "Iteration 415, loss = 0.25210980\n",
      "Iteration 416, loss = 0.25199137\n",
      "Iteration 417, loss = 0.25187337\n",
      "Iteration 418, loss = 0.25175632\n",
      "Iteration 419, loss = 0.25163997\n",
      "Iteration 420, loss = 0.25152398\n",
      "Iteration 421, loss = 0.25140907\n",
      "Iteration 422, loss = 0.25129444\n",
      "Iteration 423, loss = 0.25118069\n",
      "Iteration 424, loss = 0.25106782\n",
      "Iteration 425, loss = 0.25095547\n",
      "Iteration 426, loss = 0.25084356\n",
      "Iteration 427, loss = 0.25073287\n",
      "Iteration 428, loss = 0.25062278\n",
      "Iteration 429, loss = 0.25051235\n",
      "Iteration 430, loss = 0.25040328\n",
      "Iteration 431, loss = 0.25029464\n",
      "Iteration 432, loss = 0.25018656\n",
      "Iteration 433, loss = 0.25007968\n",
      "Iteration 434, loss = 0.24997266\n",
      "Iteration 435, loss = 0.24986688\n",
      "Iteration 436, loss = 0.24976140\n",
      "Iteration 437, loss = 0.24965659\n",
      "Iteration 438, loss = 0.24955287\n",
      "Iteration 439, loss = 0.24944983\n",
      "Iteration 440, loss = 0.24934697\n",
      "Iteration 441, loss = 0.24924481\n",
      "Iteration 442, loss = 0.24914319\n",
      "Iteration 443, loss = 0.24904192\n",
      "Iteration 444, loss = 0.24894166\n",
      "Iteration 445, loss = 0.24884183\n",
      "Iteration 446, loss = 0.24874248\n",
      "Iteration 447, loss = 0.24864343\n",
      "Iteration 448, loss = 0.24854515\n",
      "Iteration 449, loss = 0.24844727\n",
      "Iteration 450, loss = 0.24835060\n",
      "Iteration 451, loss = 0.24825377\n",
      "Iteration 452, loss = 0.24815695\n",
      "Iteration 453, loss = 0.24806118\n",
      "Iteration 454, loss = 0.24796584\n",
      "Iteration 455, loss = 0.24787095\n",
      "Training loss did not improve more than tol=0.000100 for 10 consecutive epochs. Stopping.\n"
     ]
    },
    {
     "data": {
      "text/plain": [
       "MLPClassifier(hidden_layer_sizes=(100, 100), learning_rate_init=0.0001,\n",
       "              max_iter=1000, verbose=10)"
      ]
     },
     "execution_count": 27,
     "metadata": {},
     "output_type": "execute_result"
    }
   ],
   "source": [
    "from sklearn.neural_network import MLPClassifier\n",
    "from sklearn.model_selection import train_test_split\n",
    "from sklearn.preprocessing import StandardScaler\n",
    "\n",
    "scaler_for_SVM = StandardScaler() # we rescale the inputs for the neural network\n",
    "X = np.array(equalized_dataframe_fault_value.value).reshape(-1, 1)\n",
    "y = np.array(equalized_dataframe_fault_value.fault).reshape(-1, 1)\n",
    "X = scaler_for_SVM.fit_transform(X)\n",
    "X_train, X_test, y_train, y_test = train_test_split(\n",
    "    X, y, test_size=0.20, random_state=42)\n",
    "\n",
    "\n",
    "clf = MLPClassifier(hidden_layer_sizes=(100,100), max_iter=1000,\n",
    "                     solver='adam', verbose=10, learning_rate_init=0.0001)\n",
    "clf.fit(X_train, y_train)"
   ]
  },
  {
   "cell_type": "code",
   "execution_count": 28,
   "metadata": {
    "scrolled": true
   },
   "outputs": [
    {
     "data": {
      "text/plain": [
       "0.782608695652174"
      ]
     },
     "execution_count": 28,
     "metadata": {},
     "output_type": "execute_result"
    }
   ],
   "source": [
    "clf.score(X_test, y_test)"
   ]
  },
  {
   "cell_type": "code",
   "execution_count": 29,
   "metadata": {},
   "outputs": [
    {
     "data": {
      "text/plain": [
       "array([0., 0., 0., 0., 0., 0., 0., 0., 0., 0., 0., 0., 0., 0., 0., 0., 0.,\n",
       "       0., 0., 0., 0., 0., 0., 0., 0., 0., 0., 0., 0., 0., 0., 0., 0., 0.,\n",
       "       0., 0., 0., 0., 0., 0., 0., 0., 0., 0., 0., 0., 0., 0., 0., 0., 0.,\n",
       "       0., 0., 0., 0., 0., 0., 0., 0., 0., 0., 0., 0., 0., 0., 0., 0., 0.,\n",
       "       0., 0., 0., 0., 0., 0., 0., 0., 0., 0., 0., 0., 0., 0., 0., 0., 0.,\n",
       "       0., 0., 0.])"
      ]
     },
     "execution_count": 29,
     "metadata": {},
     "output_type": "execute_result"
    }
   ],
   "source": [
    "clf.predict(X_train)"
   ]
  },
  {
   "cell_type": "code",
   "execution_count": 30,
   "metadata": {},
   "outputs": [
    {
     "data": {
      "text/plain": [
       "[<matplotlib.lines.Line2D at 0x7f5d151a8160>]"
      ]
     },
     "execution_count": 30,
     "metadata": {},
     "output_type": "execute_result"
    },
    {
     "data": {
      "image/png": "[encoded data removed]",
      "text/plain": [
       "<Figure size 432x288 with 1 Axes>"
      ]
     },
     "metadata": {
      "needs_background": "light"
     },
     "output_type": "display_data"
    }
   ],
   "source": [
    "plt.plot(X_train)\n",
    "plt.plot(y_train)"
   ]
  },
  {
   "cell_type": "code",
   "execution_count": 31,
   "metadata": {},
   "outputs": [
    {
     "data": {
      "text/plain": [
       "[<matplotlib.lines.Line2D at 0x7f5d1c5e1400>]"
      ]
     },
     "execution_count": 31,
     "metadata": {},
     "output_type": "execute_result"
    },
    {
     "data": {
      "image/png": "[encoded data removed]",
      "text/plain": [
       "<Figure size 1080x576 with 1 Axes>"
      ]
     },
     "metadata": {
      "needs_background": "light"
     },
     "output_type": "display_data"
    }
   ],
   "source": [
    "S128 = S128.dropna()\n",
    "plt.figure(figsize=(15,8))\n",
    "plt.plot(S128.rolling(window=1000).mean().dropna())"
   ]
  },
  {
   "cell_type": "code",
   "execution_count": 32,
   "metadata": {},
   "outputs": [
    {
     "data": {
      "text/plain": [
       "[<matplotlib.lines.Line2D at 0x7f5d20b9a4c0>]"
      ]
     },
     "execution_count": 32,
     "metadata": {},
     "output_type": "execute_result"
    },
    {
     "data": {
      "image/png": "[encoded data removed]",
      "text/plain": [
       "<Figure size 432x288 with 1 Axes>"
      ]
     },
     "metadata": {
      "needs_background": "light"
     },
     "output_type": "display_data"
    }
   ],
   "source": [
    "S128_resampled = S128.resample(\"1h\").mean()\n",
    "S128_resampled\n",
    "plt.plot(S128_resampled.rolling(window=100).mean().dropna())"
   ]
  },
  {
   "cell_type": "markdown",
   "metadata": {},
   "source": [
    "Now we train a MLPRegressor in order to predict a value of S128 in the future (1 april 2021), we convert the timestamp into julian date and then rescale."
   ]
  },
  {
   "cell_type": "code",
   "execution_count": 33,
   "metadata": {},
   "outputs": [
    {
     "name": "stderr",
     "output_type": "stream",
     "text": [
      "/home/mattia/.local/lib/python3.8/site-packages/sklearn/utils/validation.py:63: DataConversionWarning: A column-vector y was passed when a 1d array was expected. Please change the shape of y to (n_samples, ), for example using ravel().\n",
      "  return f(*args, **kwargs)\n"
     ]
    }
   ],
   "source": [
    "from sklearn.neural_network import MLPRegressor\n",
    "from sklearn.preprocessing import StandardScaler\n",
    "\n",
    "X = np.array(S128_resampled.rolling(window=100).mean().dropna().index.to_julian_date())\n",
    "y = np.array(S128_resampled.rolling(window=100).mean().dropna().value)\n",
    "\n",
    "scaler = StandardScaler()\n",
    "\n",
    "X_train, X_test, y_train, y_test = train_test_split(X, y,random_state=1, test_size=0.1)\n",
    "scaled_X = scaler.fit_transform(X.reshape(-1, 1))\n",
    "regr = MLPRegressor(hidden_layer_sizes=(64,64,64),activation=\"relu\" ,random_state=1, max_iter=2000).fit(scaled_X, y.reshape(-1, 1))"
   ]
  },
  {
   "cell_type": "code",
   "execution_count": 34,
   "metadata": {},
   "outputs": [
    {
     "data": {
      "text/plain": [
       "[<matplotlib.lines.Line2D at 0x7f5d1c79b610>]"
      ]
     },
     "execution_count": 34,
     "metadata": {},
     "output_type": "execute_result"
    },
    {
     "data": {
      "image/png": "[encoded data removed]",
      "text/plain": [
       "<Figure size 1080x504 with 1 Axes>"
      ]
     },
     "metadata": {
      "needs_background": "light"
     },
     "output_type": "display_data"
    }
   ],
   "source": [
    "plt.figure(figsize=(15,7))\n",
    "plt.plot(y)\n",
    "plt.plot(regr.predict(scaled_X),\"r\")"
   ]
  },
  {
   "cell_type": "code",
   "execution_count": 35,
   "metadata": {},
   "outputs": [],
   "source": [
    "#\"2021-03-31 24:00:00\"\n",
    "#2459305.5\n",
    "primo_aprile = pd.Timestamp('2021-04-01').to_julian_date()\n",
    "primo_aprile_scalato = scaler.transform(np.array(primo_aprile).reshape(-1,1))\n",
    "predict_primo_aprile = regr.predict(primo_aprile_scalato)"
   ]
  },
  {
   "cell_type": "code",
   "execution_count": 36,
   "metadata": {},
   "outputs": [
    {
     "data": {
      "text/plain": [
       "array([64.91684901])"
      ]
     },
     "execution_count": 36,
     "metadata": {},
     "output_type": "execute_result"
    }
   ],
   "source": [
    "predict_primo_aprile"
   ]
  },
  {
   "cell_type": "markdown",
   "metadata": {},
   "source": [
    "Will there be anomaly on April 1st 00:00 ?"
   ]
  },
  {
   "cell_type": "code",
   "execution_count": 37,
   "metadata": {},
   "outputs": [
    {
     "data": {
      "text/plain": [
       "True"
      ]
     },
     "execution_count": 37,
     "metadata": {},
     "output_type": "execute_result"
    }
   ],
   "source": [
    "(clf.predict([predict_primo_aprile,]) == 1)[0]"
   ]
  }
 ],
 "metadata": {
  "kernelspec": {
   "display_name": "Python 3",
   "language": "python",
   "name": "python3"
  },
  "language_info": {
   "codemirror_mode": {
    "name": "ipython",
    "version": 3
   },
   "file_extension": ".py",
   "mimetype": "text/x-python",
   "name": "python",
   "nbconvert_exporter": "python",
   "pygments_lexer": "ipython3",
   "version": "3.8.10"
  }
 },
 "nbformat": 4,
 "nbformat_minor": 5
}
